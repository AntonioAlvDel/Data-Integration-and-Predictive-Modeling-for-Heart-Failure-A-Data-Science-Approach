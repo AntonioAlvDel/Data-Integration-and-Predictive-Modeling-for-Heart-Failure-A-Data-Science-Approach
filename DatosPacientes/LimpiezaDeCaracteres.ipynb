{
 "cells": [
  {
   "cell_type": "code",
   "execution_count": 1,
   "id": "dc555382",
   "metadata": {},
   "outputs": [],
   "source": [
    "import csv\n",
    "import unicodedata\n",
    "\n",
    "def quitar_tildes(input_str):\n",
    "    nfkd_form = unicodedata.normalize('NFKD', input_str)\n",
    "    return ''.join([c for c in nfkd_form if not unicodedata.combining(c)])\n",
    "\n",
    "def quitar_tildes_en_csv(input_file, output_file):\n",
    "    with open(input_file, 'r', encoding='utf-8') as csvfile:\n",
    "        reader = csv.reader(csvfile)\n",
    "        header = next(reader)  # Lee la primera fila (encabezado)\n",
    "        \n",
    "        # Aplica la función de quitar_tildes a cada celda del CSV\n",
    "        data = [[quitar_tildes(cell) for cell in row] for row in reader]\n",
    "\n",
    "    with open(output_file, 'w', newline='', encoding='utf-8') as csvfile:\n",
    "        writer = csv.writer(csvfile)\n",
    "        writer.writerow(header)\n",
    "        writer.writerows(data)\n",
    "\n",
    "# Reemplaza 'input.csv' y 'output.csv' con tus nombres de archivo\n",
    "quitar_tildes_en_csv('datos_pacientes_vinculado.csv', 'datos_pacientes_final.csv')"
   ]
  }
 ],
 "metadata": {
  "kernelspec": {
   "display_name": "Python 3 (ipykernel)",
   "language": "python",
   "name": "python3"
  },
  "language_info": {
   "codemirror_mode": {
    "name": "ipython",
    "version": 3
   },
   "file_extension": ".py",
   "mimetype": "text/x-python",
   "name": "python",
   "nbconvert_exporter": "python",
   "pygments_lexer": "ipython3",
   "version": "3.9.12"
  }
 },
 "nbformat": 4,
 "nbformat_minor": 5
}
