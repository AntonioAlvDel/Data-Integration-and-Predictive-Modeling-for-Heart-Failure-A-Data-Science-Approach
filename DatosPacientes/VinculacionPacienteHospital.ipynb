{
 "cells": [
  {
   "cell_type": "code",
   "execution_count": 3,
   "id": "9bcf245e",
   "metadata": {},
   "outputs": [
    {
     "name": "stdout",
     "output_type": "stream",
     "text": [
      "           id  nameFirst nameLast  gender                      date  age  \\\n",
      "0  42765939-J  Francisca   García  female  2005-02-13T21:53:14.287Z   18   \n",
      "1  36701823-P     Teresa     Peña  female  2006-02-06T11:33:55.000Z   17   \n",
      "2  05273776-S     Martín  Márquez    male  2021-01-22T12:20:56.147Z    2   \n",
      "3  87488953-V      Irene  Carmona  female  2004-01-19T19:45:14.022Z   19   \n",
      "4  25565022-O       John     Cruz    male  2012-06-18T20:47:07.407Z   11   \n",
      "\n",
      "  country      state                  city             streetName  \\\n",
      "0   Spain    Galicia         San Sebastián        Calle Covadonga   \n",
      "1   Spain   Asturias              Zaragoza          Calle Nebrija   \n",
      "2   Spain  Cantabria                Gandía  Calle de Ángel García   \n",
      "3   Spain  Cantabria  Talavera de la Reina        Calle de Atocha   \n",
      "4   Spain   Cataluña                 Parla        Calle de Atocha   \n",
      "\n",
      "   streetNumber  postcode                         email        phone  \\\n",
      "0          2361     16578  francisca.garcia@example.com  945-803-666   \n",
      "1          2540     37613       teresa.pena@example.com  990-072-913   \n",
      "2          9547     29665    martin.marquez@example.com  985-537-242   \n",
      "3          1084     34947     irene.carmona@example.com  964-453-420   \n",
      "4          7593     42095         john.cruz@example.com  964-823-791   \n",
      "\n",
      "  IDHospital  \n",
      "0      00008  \n",
      "1      00015  \n",
      "2      00022  \n",
      "3      00018  \n",
      "4      00003  \n"
     ]
    }
   ],
   "source": [
    "import pandas as pd\n",
    "import numpy as np\n",
    "import random\n",
    "\n",
    "# Cargar datos de hospitales y pacientes desde archivos CSV\n",
    "datos_hospitales = pd.read_csv('datos_hospitales_completo.csv')\n",
    "datos_pacientes = pd.read_csv('datosPacientes.csv')\n",
    "\n",
    "# Valores posibles para la columna \"IDHospital\"\n",
    "codigos_IDHospitales_posibles = [\"00001\", \"00002\", \"00003\", \"00004\", \"00005\", \"00006\", \"00007\", \"00008\", \"00009\",\n",
    "                        \"00010\", \"00011\", \"00012\", \"00013\", \"00014\", \"00015\", \"00016\", \"00017\", \"00018\",\n",
    "                        \"00019\", \"00020\", \"00021\", \"00022\", \"00023\", \"00024\", \"00025\", \"00026\", \"00028\",\n",
    "                        \"00029\", \"00030\"]\n",
    "\n",
    "# Añadir la nueva columna \"CódigoCNH\" a los datos de pacientes\n",
    "datos_pacientes['IDHospital'] = \"\"\n",
    "\n",
    "# Recorrer cada fila y asignar un valor aleatorio de la lista de códigos\n",
    "for index, row in datos_pacientes.iterrows():\n",
    "    codigo_IDHospitales_aleatorio = random.choice(codigos_IDHospitales_posibles)\n",
    "    datos_pacientes.at[index, 'IDHospital'] = codigo_IDHospitales_aleatorio\n",
    "\n",
    "# Guardar el DataFrame actualizado de pacientes en un nuevo archivo CSV\n",
    "datos_pacientes.to_csv('datos_pacientes_vinculado.csv', index=False)\n",
    "\n",
    "# Imprimir los datos actualizados de pacientes\n",
    "print(datos_pacientes.head())\n"
   ]
  }
 ],
 "metadata": {
  "kernelspec": {
   "display_name": "Python 3 (ipykernel)",
   "language": "python",
   "name": "python3"
  },
  "language_info": {
   "codemirror_mode": {
    "name": "ipython",
    "version": 3
   },
   "file_extension": ".py",
   "mimetype": "text/x-python",
   "name": "python",
   "nbconvert_exporter": "python",
   "pygments_lexer": "ipython3",
   "version": "3.9.12"
  }
 },
 "nbformat": 4,
 "nbformat_minor": 5
}
