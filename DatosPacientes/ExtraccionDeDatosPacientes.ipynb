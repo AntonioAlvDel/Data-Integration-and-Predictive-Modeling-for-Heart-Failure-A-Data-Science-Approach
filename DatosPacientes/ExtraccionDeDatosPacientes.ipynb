{
 "cells": [
  {
   "cell_type": "markdown",
   "id": "09cb97e1",
   "metadata": {},
   "source": [
    "### EXTRACCION DE DATOS"
   ]
  },
  {
   "cell_type": "code",
   "execution_count": 1,
   "id": "17cfc1fb",
   "metadata": {},
   "outputs": [
    {
     "name": "stdout",
     "output_type": "stream",
     "text": [
      "Los datos se han guardado en 'datosPacientes.csv'.\n"
     ]
    }
   ],
   "source": [
    "import requests\n",
    "import csv\n",
    "\n",
    "# URL de la API\n",
    "api_url = \"https://randomuser.me/api/?results=918&nat=ES&noseed&nat=ES&format=gender,registered,location,phone&gender=both&age=20-70\"\n",
    "\n",
    "# Realizar una solicitud GET a la API\n",
    "response = requests.get(api_url)\n",
    "\n",
    "# Verificar si la solicitud fue exitosa\n",
    "if response.status_code == 200:\n",
    "    data = response.json()[\"results\"]\n",
    "\n",
    "    # Abrir un archivo CSV para escribir los datos\n",
    "    with open(\"datosPacientes.csv\", mode=\"w\", newline=\"\", encoding=\"utf-8\") as csv_file:\n",
    "        fieldnames = [\n",
    "            \"id\",\n",
    "            \"nameFirst\",\n",
    "            \"nameLast\",\n",
    "            \"gender\",\n",
    "            \"date\",\n",
    "            \"age\",\n",
    "            \"country\",\n",
    "            \"state\",\n",
    "            \"city\",\n",
    "            \"streetName\",\n",
    "            \"streetNumber\",\n",
    "            \"postcode\",\n",
    "            \"email\",\n",
    "            \"phone\"\n",
    "        ]\n",
    "\n",
    "        writer = csv.DictWriter(csv_file, fieldnames=fieldnames)\n",
    "        writer.writeheader()\n",
    "\n",
    "        for entry in data:\n",
    "            row = {\n",
    "                \"id\": entry[\"id\"][\"value\"],\n",
    "                \"nameFirst\": entry[\"name\"][\"first\"],\n",
    "                \"nameLast\": entry[\"name\"][\"last\"],\n",
    "                \"gender\": entry[\"gender\"],\n",
    "                \"date\": entry[\"registered\"][\"date\"],\n",
    "                \"age\": entry[\"registered\"][\"age\"],\n",
    "                \"country\": entry[\"location\"][\"country\"],\n",
    "                \"state\": entry[\"location\"][\"state\"],\n",
    "                \"city\": entry[\"location\"][\"city\"],\n",
    "                \"streetName\": entry[\"location\"][\"street\"][\"name\"],\n",
    "                \"streetNumber\": entry[\"location\"][\"street\"][\"number\"],\n",
    "                \"postcode\": entry[\"location\"][\"postcode\"],\n",
    "                \"email\": entry[\"email\"],\n",
    "                \"phone\": entry[\"phone\"]\n",
    "            }\n",
    "            writer.writerow(row)\n",
    "\n",
    "    print(\"Los datos se han guardado en 'datosPacientes.csv'.\")\n",
    "\n",
    "else:\n",
    "    print(\"Error al realizar la solicitud a la API:\", response.status_code)\n"
   ]
  },
  {
   "cell_type": "markdown",
   "id": "52ace088",
   "metadata": {},
   "source": [
    "### COMPROBACIÓN DE FORMATO"
   ]
  },
  {
   "cell_type": "code",
   "execution_count": 9,
   "id": "48834547",
   "metadata": {},
   "outputs": [
    {
     "name": "stdout",
     "output_type": "stream",
     "text": [
      "Los datos se generan en formato UTF-8.\n",
      "{\"results\":[{\"gender\":\"male\",\"name\":{\"title\":\"Mr\",\"first\":\"Felipe\",\"last\":\"Lozano\"},\"location\":{\"street\":{\"number\":8964,\"name\":\"Calle de Alcalá\"},\"city\":\"Ferrol\",\"state\":\"Aragón\",\"country\":\"Spain\",\"postcode\":18268,\"coordinates\":{\"latitude\":\"-36.9866\",\"longitude\":\"-156.0059\"},\"timezone\":{\"offset\":\"+6:00\",\"description\":\"Almaty, Dhaka, Colombo\"}},\"email\":\"felipe.lozano@example.com\",\"login\":{\"uuid\":\"57ce4411-f0c4-42e1-b178-b9aed48e9b90\",\"username\":\"heavylion767\",\"password\":\"aspire\",\"salt\":\"9bUsk6h7\",\"md5\":\"3efd781b2fe9a517cf25f72df2187310\",\"sha1\":\"55444902a5a874302ce970e656236f984f76aef2\",\"sha256\":\"d4cb92297f88f0b638fa4094370fde45dbe8b9b3552453d05631a5c5a6295066\"},\"dob\":{\"date\":\"1979-02-26T08:04:19.011Z\",\"age\":44},\"registered\":{\"date\":\"2014-12-01T01:14:23.444Z\",\"age\":8},\"phone\":\"982-586-760\",\"cell\":\"682-060-470\",\"id\":{\"name\":\"DNI\",\"value\":\"60590333-H\"},\"picture\":{\"large\":\"https://randomuser.me/api/portraits/men/93.jpg\",\"medium\":\"https://randomuser.me/api/portraits/med/men/93.jpg\",\"thumbnail\":\"https://randomuser.me/api/portraits/thumb/men/93.jpg\"},\"nat\":\"ES\"}],\"info\":{\"seed\":\"4b0fb645ad94c63d\",\"results\":1,\"page\":1,\"version\":\"1.4\"}}\n"
     ]
    }
   ],
   "source": [
    "import requests\n",
    "\n",
    "# URL de la API\n",
    "api_url = \"https://randomuser.me/api/?results=1\"  \n",
    "\n",
    "# Realizar una solicitud GET a la API\n",
    "response = requests.get(api_url)\n",
    "\n",
    "# Verificar el tipo de codificación en la respuesta\n",
    "if 'utf-8' in response.headers.get('content-type', '').lower():\n",
    "    print(\"Los datos se generan en formato UTF-8.\")\n",
    "else:\n",
    "    print(\"Los datos no se generan en formato UTF-8.\")\n",
    "\n",
    "# Imprimir la respuesta para examinar los datos\n",
    "print(response.text)\n"
   ]
  },
  {
   "cell_type": "code",
   "execution_count": 11,
   "id": "0d2e7297",
   "metadata": {},
   "outputs": [
    {
     "name": "stdout",
     "output_type": "stream",
     "text": [
      "{'id-value': '25108947-I', 'name-first': 'Gregorio', 'name-last': 'Ramírez', 'gender': 'male', 'registered-date': '2006-06-10T03:33:31.347Z', 'registered-age': '17', 'location-country': 'Spain', 'location-state': 'Asturias', 'location-city': 'Lugo', 'location-street-name': 'Calle de Téllez', 'location-street-number': '7523', 'location-postcode': '10032', 'email': 'gregorio.ramirez@example.com', 'phone': '937-375-703'}\n",
      "{'id-value': '01371896-E', 'name-first': 'Miguel', 'name-last': 'Morales', 'gender': 'male', 'registered-date': '2012-08-07T01:06:32.736Z', 'registered-age': '11', 'location-country': 'Spain', 'location-state': 'Navarra', 'location-city': 'Valladolid', 'location-street-name': 'Avenida de América', 'location-street-number': '3992', 'location-postcode': '88422', 'email': 'miguel.morales@example.com', 'phone': '972-718-073'}\n",
      "{'id-value': '49386536-T', 'name-first': 'Miriam', 'name-last': 'Peña', 'gender': 'female', 'registered-date': '2009-02-20T05:32:04.630Z', 'registered-age': '14', 'location-country': 'Spain', 'location-state': 'Ceuta', 'location-city': 'Lorca', 'location-street-name': 'Avenida de Salamanca', 'location-street-number': '8016', 'location-postcode': '97453', 'email': 'miriam.pena@example.com', 'phone': '972-759-538'}\n",
      "{'id-value': '68779129-J', 'name-first': 'Rosa', 'name-last': 'Guerrero', 'gender': 'female', 'registered-date': '2008-06-02T21:13:29.439Z', 'registered-age': '15', 'location-country': 'Spain', 'location-state': 'Comunidad de Madrid', 'location-city': 'Ciudad Real', 'location-street-name': 'Calle de Pedro Bosch', 'location-street-number': '4620', 'location-postcode': '97696', 'email': 'rosa.guerrero@example.com', 'phone': '982-762-043'}\n",
      "{'id-value': '98871313-M', 'name-first': 'Soledad', 'name-last': 'Ibáñez', 'gender': 'female', 'registered-date': '2003-01-19T13:14:01.901Z', 'registered-age': '20', 'location-country': 'Spain', 'location-state': 'Asturias', 'location-city': 'San Sebastián', 'location-street-name': 'Calle de Ferraz', 'location-street-number': '3301', 'location-postcode': '99705', 'email': 'soledad.ibanez@example.com', 'phone': '997-748-044'}\n",
      "{'id-value': '56383912-M', 'name-first': 'Jordi', 'name-last': 'Pascual', 'gender': 'male', 'registered-date': '2005-03-10T19:10:11.841Z', 'registered-age': '18', 'location-country': 'Spain', 'location-state': 'Cataluña', 'location-city': 'Orense', 'location-street-name': 'Calle de Téllez', 'location-street-number': '2619', 'location-postcode': '69001', 'email': 'jordi.pascual@example.com', 'phone': '924-366-067'}\n",
      "{'id-value': '35493497-D', 'name-first': 'Lourdes', 'name-last': 'Márquez', 'gender': 'female', 'registered-date': '2002-06-20T10:06:01.795Z', 'registered-age': '21', 'location-country': 'Spain', 'location-state': 'Galicia', 'location-city': 'Alcobendas', 'location-street-name': 'Calle de La Almudena', 'location-street-number': '9070', 'location-postcode': '68168', 'email': 'lourdes.marquez@example.com', 'phone': '990-795-856'}\n",
      "{'id-value': '21669839-E', 'name-first': 'Isaac', 'name-last': 'Esteban', 'gender': 'male', 'registered-date': '2008-09-25T05:42:44.367Z', 'registered-age': '15', 'location-country': 'Spain', 'location-state': 'Castilla y León', 'location-city': 'Santa Cruz de Tenerife', 'location-street-name': 'Calle del Pez', 'location-street-number': '8380', 'location-postcode': '77136', 'email': 'isaac.esteban@example.com', 'phone': '992-919-653'}\n",
      "{'id-value': '72851545-F', 'name-first': 'Nerea', 'name-last': 'Morales', 'gender': 'female', 'registered-date': '2018-09-25T10:40:38.447Z', 'registered-age': '5', 'location-country': 'Spain', 'location-state': 'Melilla', 'location-city': 'Las Palmas de Gran Canaria', 'location-street-name': 'Calle de Pedro Bosch', 'location-street-number': '1241', 'location-postcode': '73240', 'email': 'nerea.morales@example.com', 'phone': '953-135-114'}\n",
      "{'id-value': '63854203-F', 'name-first': 'Jorge', 'name-last': 'Lozano', 'gender': 'male', 'registered-date': '2012-02-06T06:53:45.481Z', 'registered-age': '11', 'location-country': 'Spain', 'location-state': 'La Rioja', 'location-city': 'Oviedo', 'location-street-name': 'Calle del Barquillo', 'location-street-number': '5984', 'location-postcode': '62539', 'email': 'jorge.lozano@example.com', 'phone': '933-933-613'}\n"
     ]
    }
   ],
   "source": [
    "import csv\n",
    "\n",
    "# Abrir un archivo CSV para lectura con la codificación UTF-8\n",
    "with open(\"datos.csv\", mode=\"r\", encoding=\"utf-8\") as csv_file:\n",
    "    reader = csv.DictReader(csv_file)\n",
    "    for row in reader:\n",
    "        print(row)\n"
   ]
  }
 ],
 "metadata": {
  "kernelspec": {
   "display_name": "Python 3 (ipykernel)",
   "language": "python",
   "name": "python3"
  },
  "language_info": {
   "codemirror_mode": {
    "name": "ipython",
    "version": 3
   },
   "file_extension": ".py",
   "mimetype": "text/x-python",
   "name": "python",
   "nbconvert_exporter": "python",
   "pygments_lexer": "ipython3",
   "version": "3.9.12"
  }
 },
 "nbformat": 4,
 "nbformat_minor": 5
}
